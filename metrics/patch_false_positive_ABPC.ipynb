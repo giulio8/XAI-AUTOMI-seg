{
 "cells": [
  {
   "cell_type": "code",
   "execution_count": 9,
   "id": "4cec653a",
   "metadata": {},
   "outputs": [],
   "source": [
    "def compute_area_between_curves(morf_curve, lerf_curve):\n",
    "    \"\"\"\n",
    "    Compute the area between the LeRF and MoRF curves using the trapezoidal rule. In the literature, we divide\n",
    "    the area by the number of steps to normalize it.\n",
    "    \"\"\"\n",
    "    # Ensure the curves are of the same length\n",
    "    assert len(morf_curve) == len(lerf_curve), \"Curves must be of the same length\"\n",
    "\n",
    "    # Compute the area using the trapezoidal rule\n",
    "    area = 0.0\n",
    "    for i in range(1, len(morf_curve)):\n",
    "        area += 0.5 * ((lerf_curve[i] - morf_curve[i]) + (lerf_curve[i-1] - morf_curve[i-1]))\n",
    "    return area / len(morf_curve)\n",
    "\n",
    "\n",
    "def compute_aopc(morf_curve):\n",
    "    # Compute the Area Over the Perturbation Curve (AOPC)\n",
    "    reference = morf_curve[0]\n",
    "\n",
    "    area = 0.0\n",
    "    for i in range(1, len(morf_curve)):\n",
    "        area += 0.5 * ((reference - morf_curve[i]) + (reference - morf_curve[i-1]))\n",
    "    return area / len(morf_curve)\n",
    "\n",
    "def normalized_abpc(morf_curve, lerf_curve):\n",
    "    abpc = compute_area_between_curves(morf_curve, lerf_curve)\n",
    "    range = max(lerf_curve) - min(morf_curve)\n",
    "    return abpc / range\n",
    "\n",
    "def normalized_aopc(morf_curve):\n",
    "    aopc = compute_aopc(morf_curve)\n",
    "    range = max(morf_curve) - min(morf_curve)\n",
    "    return aopc / range\n"
   ]
  },
  {
   "cell_type": "code",
   "execution_count": 10,
   "id": "124ae5d0",
   "metadata": {},
   "outputs": [
    {
     "name": "stdout",
     "output_type": "stream",
     "text": [
      "[target] group='ABPC-volumes', sv_type='FCC-organs', agg='false_positive_aggregation': 7 runs\n",
      "\n",
      "Run yuo4p6ll | points=428 | x in [0, 427]\n",
      "  ABPC_area : old = 0.00022985  -> new = 0.00022985\n",
      "  AOPC      : old = 0.00024441  -> new = 0.00024441\n",
      "  norm_ABPC : old = 0.8218  -> new = 0.8218\n",
      "  norm_AOPC : old = 0.8738  -> new = 0.8738\n"
     ]
    },
    {
     "data": {
      "text/html": [
       "Changes to your `wandb` environment variables will be ignored because your `wandb` session has already started. For more information on how to modify your settings with `wandb.init()` arguments, please refer to <a href='https://wandb.me/wandb-init' target=\"_blank\">the W&B docs</a>."
      ],
      "text/plain": [
       "<IPython.core.display.HTML object>"
      ]
     },
     "metadata": {},
     "output_type": "display_data"
    },
    {
     "data": {
      "text/html": [
       "Tracking run with wandb version 0.21.1"
      ],
      "text/plain": [
       "<IPython.core.display.HTML object>"
      ]
     },
     "metadata": {},
     "output_type": "display_data"
    },
    {
     "data": {
      "text/html": [
       "Run data is saved locally in <code>/Users/giulio/Desktop/tesi/ssh/XAI-AUTOMI-seg/metrics/wandb/run-20250909_164410-yuo4p6ll</code>"
      ],
      "text/plain": [
       "<IPython.core.display.HTML object>"
      ]
     },
     "metadata": {},
     "output_type": "display_data"
    },
    {
     "data": {
      "text/html": [
       "Resuming run <strong><a href='https://wandb.ai/giuliosichili/automi/runs/yuo4p6ll' target=\"_blank\">eager-puddle-432</a></strong> to <a href='https://wandb.ai/giuliosichili/automi' target=\"_blank\">Weights & Biases</a> (<a href='https://wandb.me/developer-guide' target=\"_blank\">docs</a>)<br>"
      ],
      "text/plain": [
       "<IPython.core.display.HTML object>"
      ]
     },
     "metadata": {},
     "output_type": "display_data"
    },
    {
     "data": {
      "text/html": [
       " View project at <a href='https://wandb.ai/giuliosichili/automi' target=\"_blank\">https://wandb.ai/giuliosichili/automi</a>"
      ],
      "text/plain": [
       "<IPython.core.display.HTML object>"
      ]
     },
     "metadata": {},
     "output_type": "display_data"
    },
    {
     "data": {
      "text/html": [
       " View run at <a href='https://wandb.ai/giuliosichili/automi/runs/yuo4p6ll' target=\"_blank\">https://wandb.ai/giuliosichili/automi/runs/yuo4p6ll</a>"
      ],
      "text/plain": [
       "<IPython.core.display.HTML object>"
      ]
     },
     "metadata": {},
     "output_type": "display_data"
    },
    {
     "name": "stdout",
     "output_type": "stream",
     "text": [
      "- yuo4p6ll ERROR: SummaryDict.update() got an unexpected keyword argument 'overwrite'\n",
      "\n",
      "Run ci5gxcdn | points=368 | x in [0, 367]\n",
      "  ABPC_area : old = 0.00039432  -> new = 0.00039432\n",
      "  AOPC      : old = 0.00042817  -> new = 0.00042817\n",
      "  norm_ABPC : old = 0.7253  -> new = 0.7253\n",
      "  norm_AOPC : old = 0.7876  -> new = 0.7876\n"
     ]
    },
    {
     "data": {
      "text/html": [
       "Changes to your `wandb` environment variables will be ignored because your `wandb` session has already started. For more information on how to modify your settings with `wandb.init()` arguments, please refer to <a href='https://wandb.me/wandb-init' target=\"_blank\">the W&B docs</a>."
      ],
      "text/plain": [
       "<IPython.core.display.HTML object>"
      ]
     },
     "metadata": {},
     "output_type": "display_data"
    },
    {
     "data": {
      "text/html": [
       "Finishing previous runs because reinit is set to 'default'."
      ],
      "text/plain": [
       "<IPython.core.display.HTML object>"
      ]
     },
     "metadata": {},
     "output_type": "display_data"
    },
    {
     "name": "stderr",
     "output_type": "stream",
     "text": [
      "\u001b[34m\u001b[1mwandb\u001b[0m: \u001b[32m\u001b[41mERROR\u001b[0m The nbformat package was not found. It is required to save notebook history.\n"
     ]
    },
    {
     "data": {
      "text/html": [],
      "text/plain": [
       "<IPython.core.display.HTML object>"
      ]
     },
     "metadata": {},
     "output_type": "display_data"
    },
    {
     "data": {
      "text/html": [
       "<br>    <style><br>        .wandb-row {<br>            display: flex;<br>            flex-direction: row;<br>            flex-wrap: wrap;<br>            justify-content: flex-start;<br>            width: 100%;<br>        }<br>        .wandb-col {<br>            display: flex;<br>            flex-direction: column;<br>            flex-basis: 100%;<br>            flex: 1;<br>            padding: 10px;<br>        }<br>    </style><br><div class=\"wandb-row\"><div class=\"wandb-col\"><h3>Run history:</h3><br/><table class=\"wandb\"><tr><td>signed_LeRF</td><td>███████████████████████████████████▇▇▇▆▁</td></tr><tr><td>signed_MoRF</td><td>██▇▇▇▅▅▄▄▄▄▄▄▃▃▃▃▃▃▃▃▂▂▂▁▂▁▁▁▁▁▁▁▁▁▂▁▂▂▃</td></tr><tr><td>supervoxels_perturbed</td><td>▁▁▁▁▂▂▂▂▂▃▃▃▃▃▃▄▄▄▄▄▅▅▅▅▅▅▅▅▆▆▆▆▇▇▇▇▇▇██</td></tr></table><br/></div><div class=\"wandb-col\"><h3>Run summary:</h3><br/><table class=\"wandb\"><tr><td>ABPC_area</td><td>0.00023</td></tr><tr><td>ABPC_area_prev</td><td>-0.00023</td></tr><tr><td>AOPC</td><td>0.00024</td></tr><tr><td>AOPC_prev</td><td>1e-05</td></tr><tr><td>LeRF</td><td>-0.00025</td></tr><tr><td>LeRF_cache_hit_ratio_percent</td><td>12.5</td></tr><tr><td>LeRF_inference_time_sec</td><td>3.77184</td></tr><tr><td>LeRF_volume_removed_mm3</td><td>6718742.56134</td></tr><tr><td>LeRF_volume_removed_pct</td><td>2.67441</td></tr><tr><td>LeRF_volume_removed_voxels</td><td>718889</td></tr><tr><td>MoRF</td><td>-0.00025</td></tr><tr><td>MoRF_cache_hit_ratio_percent</td><td>12.5</td></tr><tr><td>MoRF_inference_time_sec</td><td>3.77114</td></tr><tr><td>MoRF_volume_removed_mm3</td><td>6718742.56134</td></tr><tr><td>MoRF_volume_removed_pct</td><td>2.67441</td></tr><tr><td>MoRF_volume_removed_voxels</td><td>718889</td></tr><tr><td>norm_ABPC</td><td>0.82175</td></tr><tr><td>norm_ABPC_prev</td><td>-0.93773</td></tr><tr><td>norm_AOPC</td><td>0.87382</td></tr><tr><td>norm_AOPC_prev</td><td>0.05942</td></tr><tr><td>num_supervoxels</td><td>427</td></tr><tr><td>signed_LeRF</td><td>-0.00025</td></tr><tr><td>signed_MoRF</td><td>-0.00025</td></tr><tr><td>supervoxels_perturbed</td><td>427</td></tr><tr><td>total_volume_mm3</td><td>251223095.70312</td></tr><tr><td>total_volume_voxels</td><td>26880256</td></tr></table><br/></div></div>"
      ],
      "text/plain": [
       "<IPython.core.display.HTML object>"
      ]
     },
     "metadata": {},
     "output_type": "display_data"
    },
    {
     "data": {
      "text/html": [
       " View run <strong style=\"color:#cdcd00\">eager-puddle-432</strong> at: <a href='https://wandb.ai/giuliosichili/automi/runs/yuo4p6ll' target=\"_blank\">https://wandb.ai/giuliosichili/automi/runs/yuo4p6ll</a><br> View project at: <a href='https://wandb.ai/giuliosichili/automi' target=\"_blank\">https://wandb.ai/giuliosichili/automi</a><br>Synced 5 W&B file(s), 0 media file(s), 0 artifact file(s) and 0 other file(s)"
      ],
      "text/plain": [
       "<IPython.core.display.HTML object>"
      ]
     },
     "metadata": {},
     "output_type": "display_data"
    },
    {
     "data": {
      "text/html": [
       "Find logs at: <code>./wandb/run-20250909_164410-yuo4p6ll/logs</code>"
      ],
      "text/plain": [
       "<IPython.core.display.HTML object>"
      ]
     },
     "metadata": {},
     "output_type": "display_data"
    },
    {
     "data": {
      "text/html": [
       "Tracking run with wandb version 0.21.1"
      ],
      "text/plain": [
       "<IPython.core.display.HTML object>"
      ]
     },
     "metadata": {},
     "output_type": "display_data"
    },
    {
     "data": {
      "text/html": [
       "Run data is saved locally in <code>/Users/giulio/Desktop/tesi/ssh/XAI-AUTOMI-seg/metrics/wandb/run-20250909_164412-ci5gxcdn</code>"
      ],
      "text/plain": [
       "<IPython.core.display.HTML object>"
      ]
     },
     "metadata": {},
     "output_type": "display_data"
    },
    {
     "data": {
      "text/html": [
       "Resuming run <strong><a href='https://wandb.ai/giuliosichili/automi/runs/ci5gxcdn' target=\"_blank\">distinctive-pyramid-440</a></strong> to <a href='https://wandb.ai/giuliosichili/automi' target=\"_blank\">Weights & Biases</a> (<a href='https://wandb.me/developer-guide' target=\"_blank\">docs</a>)<br>"
      ],
      "text/plain": [
       "<IPython.core.display.HTML object>"
      ]
     },
     "metadata": {},
     "output_type": "display_data"
    },
    {
     "data": {
      "text/html": [
       " View project at <a href='https://wandb.ai/giuliosichili/automi' target=\"_blank\">https://wandb.ai/giuliosichili/automi</a>"
      ],
      "text/plain": [
       "<IPython.core.display.HTML object>"
      ]
     },
     "metadata": {},
     "output_type": "display_data"
    },
    {
     "data": {
      "text/html": [
       " View run at <a href='https://wandb.ai/giuliosichili/automi/runs/ci5gxcdn' target=\"_blank\">https://wandb.ai/giuliosichili/automi/runs/ci5gxcdn</a>"
      ],
      "text/plain": [
       "<IPython.core.display.HTML object>"
      ]
     },
     "metadata": {},
     "output_type": "display_data"
    },
    {
     "name": "stdout",
     "output_type": "stream",
     "text": [
      "- ci5gxcdn ERROR: SummaryDict.update() got an unexpected keyword argument 'overwrite'\n",
      "\n",
      "Run mherfqjc | points=339 | x in [0, 338]\n",
      "  ABPC_area : old = 0.00042865  -> new = 0.00042865\n",
      "  AOPC      : old = 0.00046886  -> new = 0.00046886\n",
      "  norm_ABPC : old = 0.7793  -> new = 0.7793\n",
      "  norm_AOPC : old = 0.8524  -> new = 0.8524\n"
     ]
    },
    {
     "data": {
      "text/html": [
       "Changes to your `wandb` environment variables will be ignored because your `wandb` session has already started. For more information on how to modify your settings with `wandb.init()` arguments, please refer to <a href='https://wandb.me/wandb-init' target=\"_blank\">the W&B docs</a>."
      ],
      "text/plain": [
       "<IPython.core.display.HTML object>"
      ]
     },
     "metadata": {},
     "output_type": "display_data"
    },
    {
     "data": {
      "text/html": [
       "Finishing previous runs because reinit is set to 'default'."
      ],
      "text/plain": [
       "<IPython.core.display.HTML object>"
      ]
     },
     "metadata": {},
     "output_type": "display_data"
    },
    {
     "data": {
      "text/html": [],
      "text/plain": [
       "<IPython.core.display.HTML object>"
      ]
     },
     "metadata": {},
     "output_type": "display_data"
    },
    {
     "data": {
      "text/html": [
       "<br>    <style><br>        .wandb-row {<br>            display: flex;<br>            flex-direction: row;<br>            flex-wrap: wrap;<br>            justify-content: flex-start;<br>            width: 100%;<br>        }<br>        .wandb-col {<br>            display: flex;<br>            flex-direction: column;<br>            flex-basis: 100%;<br>            flex: 1;<br>            padding: 10px;<br>        }<br>    </style><br><div class=\"wandb-row\"><div class=\"wandb-col\"><h3>Run history:</h3><br/><table class=\"wandb\"><tr><td>signed_LeRF</td><td>█████▇▇▇▇▆▆▆▆▆▆▆▆▅▆▆▆▆▆▆▆▅▅▅▅▄▃▃▃▃▃▃▃▃▂▁</td></tr><tr><td>signed_MoRF</td><td>█▆▄▃▃▃▃▃▃▃▁▁▃▂▂▃▃▃▃▃▃▃▃▃▃▃▃▂▃▃▃▃▃▃▃▃▃▃▃▇</td></tr><tr><td>supervoxels_perturbed</td><td>▁▁▁▁▁▂▂▂▂▂▂▂▃▃▃▃▃▄▄▄▄▅▅▅▅▅▆▆▆▆▆▆▆▆▇▇▇▇██</td></tr></table><br/></div><div class=\"wandb-col\"><h3>Run summary:</h3><br/><table class=\"wandb\"><tr><td>ABPC_area</td><td>0.00039</td></tr><tr><td>ABPC_area_prev</td><td>-0.00039</td></tr><tr><td>AOPC</td><td>0.00043</td></tr><tr><td>AOPC_prev</td><td>3e-05</td></tr><tr><td>LeRF</td><td>-0.00026</td></tr><tr><td>LeRF_cache_hit_ratio_percent</td><td>7.0</td></tr><tr><td>LeRF_inference_time_sec</td><td>5.09614</td></tr><tr><td>LeRF_volume_removed_mm3</td><td>4482188.41553</td></tr><tr><td>LeRF_volume_removed_pct</td><td>2.07381</td></tr><tr><td>LeRF_volume_removed_voxels</td><td>652766</td></tr><tr><td>MoRF</td><td>-0.00026</td></tr><tr><td>MoRF_cache_hit_ratio_percent</td><td>7.0</td></tr><tr><td>MoRF_inference_time_sec</td><td>5.09758</td></tr><tr><td>MoRF_volume_removed_mm3</td><td>4482188.41553</td></tr><tr><td>MoRF_volume_removed_pct</td><td>2.07381</td></tr><tr><td>MoRF_volume_removed_voxels</td><td>652766</td></tr><tr><td>norm_ABPC</td><td>0.72533</td></tr><tr><td>norm_ABPC_prev</td><td>-1.53547</td></tr><tr><td>norm_AOPC</td><td>0.7876</td></tr><tr><td>norm_AOPC_prev</td><td>0.13181</td></tr><tr><td>num_supervoxels</td><td>367</td></tr><tr><td>signed_LeRF</td><td>-0.00026</td></tr><tr><td>signed_MoRF</td><td>-0.00026</td></tr><tr><td>supervoxels_perturbed</td><td>367</td></tr><tr><td>total_volume_mm3</td><td>216132659.91211</td></tr><tr><td>total_volume_voxels</td><td>31476600</td></tr></table><br/></div></div>"
      ],
      "text/plain": [
       "<IPython.core.display.HTML object>"
      ]
     },
     "metadata": {},
     "output_type": "display_data"
    },
    {
     "data": {
      "text/html": [
       " View run <strong style=\"color:#cdcd00\">distinctive-pyramid-440</strong> at: <a href='https://wandb.ai/giuliosichili/automi/runs/ci5gxcdn' target=\"_blank\">https://wandb.ai/giuliosichili/automi/runs/ci5gxcdn</a><br> View project at: <a href='https://wandb.ai/giuliosichili/automi' target=\"_blank\">https://wandb.ai/giuliosichili/automi</a><br>Synced 5 W&B file(s), 0 media file(s), 0 artifact file(s) and 0 other file(s)"
      ],
      "text/plain": [
       "<IPython.core.display.HTML object>"
      ]
     },
     "metadata": {},
     "output_type": "display_data"
    },
    {
     "data": {
      "text/html": [
       "Find logs at: <code>./wandb/run-20250909_164412-ci5gxcdn/logs</code>"
      ],
      "text/plain": [
       "<IPython.core.display.HTML object>"
      ]
     },
     "metadata": {},
     "output_type": "display_data"
    },
    {
     "data": {
      "text/html": [
       "Tracking run with wandb version 0.21.1"
      ],
      "text/plain": [
       "<IPython.core.display.HTML object>"
      ]
     },
     "metadata": {},
     "output_type": "display_data"
    },
    {
     "data": {
      "text/html": [
       "Run data is saved locally in <code>/Users/giulio/Desktop/tesi/ssh/XAI-AUTOMI-seg/metrics/wandb/run-20250909_164415-mherfqjc</code>"
      ],
      "text/plain": [
       "<IPython.core.display.HTML object>"
      ]
     },
     "metadata": {},
     "output_type": "display_data"
    },
    {
     "data": {
      "text/html": [
       "Resuming run <strong><a href='https://wandb.ai/giuliosichili/automi/runs/mherfqjc' target=\"_blank\">giddy-spaceship-451</a></strong> to <a href='https://wandb.ai/giuliosichili/automi' target=\"_blank\">Weights & Biases</a> (<a href='https://wandb.me/developer-guide' target=\"_blank\">docs</a>)<br>"
      ],
      "text/plain": [
       "<IPython.core.display.HTML object>"
      ]
     },
     "metadata": {},
     "output_type": "display_data"
    },
    {
     "data": {
      "text/html": [
       " View project at <a href='https://wandb.ai/giuliosichili/automi' target=\"_blank\">https://wandb.ai/giuliosichili/automi</a>"
      ],
      "text/plain": [
       "<IPython.core.display.HTML object>"
      ]
     },
     "metadata": {},
     "output_type": "display_data"
    },
    {
     "data": {
      "text/html": [
       " View run at <a href='https://wandb.ai/giuliosichili/automi/runs/mherfqjc' target=\"_blank\">https://wandb.ai/giuliosichili/automi/runs/mherfqjc</a>"
      ],
      "text/plain": [
       "<IPython.core.display.HTML object>"
      ]
     },
     "metadata": {},
     "output_type": "display_data"
    },
    {
     "name": "stdout",
     "output_type": "stream",
     "text": [
      "- mherfqjc ERROR: SummaryDict.update() got an unexpected keyword argument 'overwrite'\n",
      "\n",
      "Run w7mwddqi | points=416 | x in [0, 415]\n",
      "  ABPC_area : old = 0.00011613  -> new = 0.00011613\n",
      "  AOPC      : old = 0.00019548  -> new = 0.00019548\n",
      "  norm_ABPC : old = 0.4636  -> new = 0.4636\n",
      "  norm_AOPC : old = 0.7803  -> new = 0.7803\n"
     ]
    },
    {
     "data": {
      "text/html": [
       "Changes to your `wandb` environment variables will be ignored because your `wandb` session has already started. For more information on how to modify your settings with `wandb.init()` arguments, please refer to <a href='https://wandb.me/wandb-init' target=\"_blank\">the W&B docs</a>."
      ],
      "text/plain": [
       "<IPython.core.display.HTML object>"
      ]
     },
     "metadata": {},
     "output_type": "display_data"
    },
    {
     "data": {
      "text/html": [
       "Finishing previous runs because reinit is set to 'default'."
      ],
      "text/plain": [
       "<IPython.core.display.HTML object>"
      ]
     },
     "metadata": {},
     "output_type": "display_data"
    },
    {
     "name": "stderr",
     "output_type": "stream",
     "text": [
      "\u001b[34m\u001b[1mwandb\u001b[0m: \u001b[32m\u001b[41mERROR\u001b[0m The nbformat package was not found. It is required to save notebook history.\n"
     ]
    },
    {
     "data": {
      "text/html": [],
      "text/plain": [
       "<IPython.core.display.HTML object>"
      ]
     },
     "metadata": {},
     "output_type": "display_data"
    },
    {
     "data": {
      "text/html": [
       "<br>    <style><br>        .wandb-row {<br>            display: flex;<br>            flex-direction: row;<br>            flex-wrap: wrap;<br>            justify-content: flex-start;<br>            width: 100%;<br>        }<br>        .wandb-col {<br>            display: flex;<br>            flex-direction: column;<br>            flex-basis: 100%;<br>            flex: 1;<br>            padding: 10px;<br>        }<br>    </style><br><div class=\"wandb-row\"><div class=\"wandb-col\"><h3>Run history:</h3><br/><table class=\"wandb\"><tr><td>signed_LeRF</td><td>███▇█▇▇▇▇▇▆▆▆▆▆▆▆▆▆▆▆▅▅▅▅▅▅▄▄▃▃▃▃▃▃▃▃▃▃▁</td></tr><tr><td>signed_MoRF</td><td>█▅▃▂▂▂▂▂▂▂▁▂▁▁▂▂▂▁▁▁▁▁▁▁▁▂▂▂▂▂▂▂▂▂▂▂▂▃▃▃</td></tr><tr><td>supervoxels_perturbed</td><td>▁▁▁▁▁▂▂▂▂▂▃▃▃▃▃▃▃▃▄▄▄▄▄▄▅▅▅▅▅▅▅▆▆▆▇▇▇███</td></tr></table><br/></div><div class=\"wandb-col\"><h3>Run summary:</h3><br/><table class=\"wandb\"><tr><td>ABPC_area</td><td>0.00043</td></tr><tr><td>ABPC_area_prev</td><td>-0.00043</td></tr><tr><td>AOPC</td><td>0.00047</td></tr><tr><td>AOPC_prev</td><td>4e-05</td></tr><tr><td>LeRF</td><td>-0.00016</td></tr><tr><td>LeRF_cache_hit_ratio_percent</td><td>20</td></tr><tr><td>LeRF_inference_time_sec</td><td>5.53863</td></tr><tr><td>LeRF_volume_removed_mm3</td><td>4044695.62418</td></tr><tr><td>LeRF_volume_removed_pct</td><td>3.74164</td></tr><tr><td>LeRF_volume_removed_voxels</td><td>1413725</td></tr><tr><td>MoRF</td><td>-0.00016</td></tr><tr><td>MoRF_cache_hit_ratio_percent</td><td>20</td></tr><tr><td>MoRF_inference_time_sec</td><td>5.54519</td></tr><tr><td>MoRF_volume_removed_mm3</td><td>4044695.62418</td></tr><tr><td>MoRF_volume_removed_pct</td><td>3.74164</td></tr><tr><td>MoRF_volume_removed_voxels</td><td>1413725</td></tr><tr><td>norm_ABPC</td><td>0.77926</td></tr><tr><td>norm_ABPC_prev</td><td>-2.57811</td></tr><tr><td>norm_AOPC</td><td>0.85236</td></tr><tr><td>norm_AOPC_prev</td><td>0.24183</td></tr><tr><td>num_supervoxels</td><td>338</td></tr><tr><td>signed_LeRF</td><td>-0.00016</td></tr><tr><td>signed_MoRF</td><td>-0.00016</td></tr><tr><td>supervoxels_perturbed</td><td>338</td></tr><tr><td>total_volume_mm3</td><td>108099681.51966</td></tr><tr><td>total_volume_voxels</td><td>37783615</td></tr></table><br/></div></div>"
      ],
      "text/plain": [
       "<IPython.core.display.HTML object>"
      ]
     },
     "metadata": {},
     "output_type": "display_data"
    },
    {
     "data": {
      "text/html": [
       " View run <strong style=\"color:#cdcd00\">giddy-spaceship-451</strong> at: <a href='https://wandb.ai/giuliosichili/automi/runs/mherfqjc' target=\"_blank\">https://wandb.ai/giuliosichili/automi/runs/mherfqjc</a><br> View project at: <a href='https://wandb.ai/giuliosichili/automi' target=\"_blank\">https://wandb.ai/giuliosichili/automi</a><br>Synced 5 W&B file(s), 0 media file(s), 0 artifact file(s) and 0 other file(s)"
      ],
      "text/plain": [
       "<IPython.core.display.HTML object>"
      ]
     },
     "metadata": {},
     "output_type": "display_data"
    },
    {
     "data": {
      "text/html": [
       "Find logs at: <code>./wandb/run-20250909_164415-mherfqjc/logs</code>"
      ],
      "text/plain": [
       "<IPython.core.display.HTML object>"
      ]
     },
     "metadata": {},
     "output_type": "display_data"
    },
    {
     "data": {
      "text/html": [
       "creating run (0.7s)"
      ],
      "text/plain": [
       "<IPython.core.display.HTML object>"
      ]
     },
     "metadata": {},
     "output_type": "display_data"
    },
    {
     "data": {
      "text/html": [
       "Tracking run with wandb version 0.21.1"
      ],
      "text/plain": [
       "<IPython.core.display.HTML object>"
      ]
     },
     "metadata": {},
     "output_type": "display_data"
    },
    {
     "data": {
      "text/html": [
       "Run data is saved locally in <code>/Users/giulio/Desktop/tesi/ssh/XAI-AUTOMI-seg/metrics/wandb/run-20250909_164418-w7mwddqi</code>"
      ],
      "text/plain": [
       "<IPython.core.display.HTML object>"
      ]
     },
     "metadata": {},
     "output_type": "display_data"
    },
    {
     "data": {
      "text/html": [
       "Resuming run <strong><a href='https://wandb.ai/giuliosichili/automi/runs/w7mwddqi' target=\"_blank\">autumn-shape-458</a></strong> to <a href='https://wandb.ai/giuliosichili/automi' target=\"_blank\">Weights & Biases</a> (<a href='https://wandb.me/developer-guide' target=\"_blank\">docs</a>)<br>"
      ],
      "text/plain": [
       "<IPython.core.display.HTML object>"
      ]
     },
     "metadata": {},
     "output_type": "display_data"
    },
    {
     "data": {
      "text/html": [
       " View project at <a href='https://wandb.ai/giuliosichili/automi' target=\"_blank\">https://wandb.ai/giuliosichili/automi</a>"
      ],
      "text/plain": [
       "<IPython.core.display.HTML object>"
      ]
     },
     "metadata": {},
     "output_type": "display_data"
    },
    {
     "data": {
      "text/html": [
       " View run at <a href='https://wandb.ai/giuliosichili/automi/runs/w7mwddqi' target=\"_blank\">https://wandb.ai/giuliosichili/automi/runs/w7mwddqi</a>"
      ],
      "text/plain": [
       "<IPython.core.display.HTML object>"
      ]
     },
     "metadata": {},
     "output_type": "display_data"
    },
    {
     "name": "stdout",
     "output_type": "stream",
     "text": [
      "- w7mwddqi ERROR: SummaryDict.update() got an unexpected keyword argument 'overwrite'\n",
      "\n",
      "Run j0n91fz7 | points=498 | x in [0, 497]\n",
      "  ABPC_area : old = 0.00033388  -> new = 0.00033388\n",
      "  AOPC      : old = 0.00040264  -> new = 0.00040264\n",
      "  norm_ABPC : old = 0.7177  -> new = 0.7177\n",
      "  norm_AOPC : old = 0.8655  -> new = 0.8655\n"
     ]
    },
    {
     "data": {
      "text/html": [
       "Changes to your `wandb` environment variables will be ignored because your `wandb` session has already started. For more information on how to modify your settings with `wandb.init()` arguments, please refer to <a href='https://wandb.me/wandb-init' target=\"_blank\">the W&B docs</a>."
      ],
      "text/plain": [
       "<IPython.core.display.HTML object>"
      ]
     },
     "metadata": {},
     "output_type": "display_data"
    },
    {
     "data": {
      "text/html": [
       "Finishing previous runs because reinit is set to 'default'."
      ],
      "text/plain": [
       "<IPython.core.display.HTML object>"
      ]
     },
     "metadata": {},
     "output_type": "display_data"
    },
    {
     "data": {
      "text/html": [],
      "text/plain": [
       "<IPython.core.display.HTML object>"
      ]
     },
     "metadata": {},
     "output_type": "display_data"
    },
    {
     "data": {
      "text/html": [
       "<br>    <style><br>        .wandb-row {<br>            display: flex;<br>            flex-direction: row;<br>            flex-wrap: wrap;<br>            justify-content: flex-start;<br>            width: 100%;<br>        }<br>        .wandb-col {<br>            display: flex;<br>            flex-direction: column;<br>            flex-basis: 100%;<br>            flex: 1;<br>            padding: 10px;<br>        }<br>    </style><br><div class=\"wandb-row\"><div class=\"wandb-col\"><h3>Run history:</h3><br/><table class=\"wandb\"><tr><td>signed_LeRF</td><td>██████▇▇▇▇▆▅▅▅▄▄▄▄▄▄▃▂▂▁▁▄▄▆▅▅▆▆▆▅▅▆▅▅▆▄</td></tr><tr><td>signed_MoRF</td><td>█▆▆▆▆▆▆▅▄▃▂▂▂▂▂▂▁▁▁▁▁▁▁▁▁▁▁▁▁▁▁▁▁▂▂▂▂▂▂▂</td></tr><tr><td>supervoxels_perturbed</td><td>▁▁▁▁▁▂▂▂▂▂▂▂▂▂▂▃▃▃▄▄▄▄▄▅▅▅▅▆▆▆▆▆▇▇▇▇████</td></tr></table><br/></div><div class=\"wandb-col\"><h3>Run summary:</h3><br/><table class=\"wandb\"><tr><td>ABPC_area</td><td>0.00012</td></tr><tr><td>ABPC_area_prev</td><td>-0.00012</td></tr><tr><td>AOPC</td><td>0.0002</td></tr><tr><td>AOPC_prev</td><td>8e-05</td></tr><tr><td>LeRF</td><td>-0.00011</td></tr><tr><td>LeRF_cache_hit_ratio_percent</td><td>24</td></tr><tr><td>LeRF_inference_time_sec</td><td>4.21556</td></tr><tr><td>LeRF_volume_removed_mm3</td><td>5866180.99213</td></tr><tr><td>LeRF_volume_removed_pct</td><td>1.96522</td></tr><tr><td>LeRF_volume_removed_voxels</td><td>627667</td></tr><tr><td>MoRF</td><td>-0.00011</td></tr><tr><td>MoRF_cache_hit_ratio_percent</td><td>24</td></tr><tr><td>MoRF_inference_time_sec</td><td>4.21156</td></tr><tr><td>MoRF_volume_removed_mm3</td><td>5866180.99213</td></tr><tr><td>MoRF_volume_removed_pct</td><td>1.96522</td></tr><tr><td>MoRF_volume_removed_voxels</td><td>627667</td></tr><tr><td>norm_ABPC</td><td>0.46357</td></tr><tr><td>norm_ABPC_prev</td><td>-0.95565</td></tr><tr><td>norm_AOPC</td><td>0.78027</td></tr><tr><td>norm_AOPC_prev</td><td>0.6529</td></tr><tr><td>num_supervoxels</td><td>415</td></tr><tr><td>signed_LeRF</td><td>-0.00011</td></tr><tr><td>signed_MoRF</td><td>-0.00011</td></tr><tr><td>supervoxels_perturbed</td><td>415</td></tr><tr><td>total_volume_mm3</td><td>298499766.54053</td></tr><tr><td>total_volume_voxels</td><td>31938744</td></tr></table><br/></div></div>"
      ],
      "text/plain": [
       "<IPython.core.display.HTML object>"
      ]
     },
     "metadata": {},
     "output_type": "display_data"
    },
    {
     "data": {
      "text/html": [
       " View run <strong style=\"color:#cdcd00\">autumn-shape-458</strong> at: <a href='https://wandb.ai/giuliosichili/automi/runs/w7mwddqi' target=\"_blank\">https://wandb.ai/giuliosichili/automi/runs/w7mwddqi</a><br> View project at: <a href='https://wandb.ai/giuliosichili/automi' target=\"_blank\">https://wandb.ai/giuliosichili/automi</a><br>Synced 5 W&B file(s), 0 media file(s), 0 artifact file(s) and 0 other file(s)"
      ],
      "text/plain": [
       "<IPython.core.display.HTML object>"
      ]
     },
     "metadata": {},
     "output_type": "display_data"
    },
    {
     "data": {
      "text/html": [
       "Find logs at: <code>./wandb/run-20250909_164418-w7mwddqi/logs</code>"
      ],
      "text/plain": [
       "<IPython.core.display.HTML object>"
      ]
     },
     "metadata": {},
     "output_type": "display_data"
    },
    {
     "data": {
      "text/html": [
       "Tracking run with wandb version 0.21.1"
      ],
      "text/plain": [
       "<IPython.core.display.HTML object>"
      ]
     },
     "metadata": {},
     "output_type": "display_data"
    },
    {
     "data": {
      "text/html": [
       "Run data is saved locally in <code>/Users/giulio/Desktop/tesi/ssh/XAI-AUTOMI-seg/metrics/wandb/run-20250909_164421-j0n91fz7</code>"
      ],
      "text/plain": [
       "<IPython.core.display.HTML object>"
      ]
     },
     "metadata": {},
     "output_type": "display_data"
    },
    {
     "data": {
      "text/html": [
       "Resuming run <strong><a href='https://wandb.ai/giuliosichili/automi/runs/j0n91fz7' target=\"_blank\">sage-violet-465</a></strong> to <a href='https://wandb.ai/giuliosichili/automi' target=\"_blank\">Weights & Biases</a> (<a href='https://wandb.me/developer-guide' target=\"_blank\">docs</a>)<br>"
      ],
      "text/plain": [
       "<IPython.core.display.HTML object>"
      ]
     },
     "metadata": {},
     "output_type": "display_data"
    },
    {
     "data": {
      "text/html": [
       " View project at <a href='https://wandb.ai/giuliosichili/automi' target=\"_blank\">https://wandb.ai/giuliosichili/automi</a>"
      ],
      "text/plain": [
       "<IPython.core.display.HTML object>"
      ]
     },
     "metadata": {},
     "output_type": "display_data"
    },
    {
     "data": {
      "text/html": [
       " View run at <a href='https://wandb.ai/giuliosichili/automi/runs/j0n91fz7' target=\"_blank\">https://wandb.ai/giuliosichili/automi/runs/j0n91fz7</a>"
      ],
      "text/plain": [
       "<IPython.core.display.HTML object>"
      ]
     },
     "metadata": {},
     "output_type": "display_data"
    },
    {
     "name": "stdout",
     "output_type": "stream",
     "text": [
      "- j0n91fz7 ERROR: SummaryDict.update() got an unexpected keyword argument 'overwrite'\n",
      "\n",
      "Run b10nvc1l | points=346 | x in [0, 345]\n",
      "  ABPC_area : old = 0.00022805  -> new = 0.00022805\n",
      "  AOPC      : old = 0.00029930  -> new = 0.00029930\n",
      "  norm_ABPC : old = 0.6518  -> new = 0.6518\n",
      "  norm_AOPC : old = 0.8555  -> new = 0.8555\n"
     ]
    },
    {
     "data": {
      "text/html": [
       "Changes to your `wandb` environment variables will be ignored because your `wandb` session has already started. For more information on how to modify your settings with `wandb.init()` arguments, please refer to <a href='https://wandb.me/wandb-init' target=\"_blank\">the W&B docs</a>."
      ],
      "text/plain": [
       "<IPython.core.display.HTML object>"
      ]
     },
     "metadata": {},
     "output_type": "display_data"
    },
    {
     "data": {
      "text/html": [
       "Finishing previous runs because reinit is set to 'default'."
      ],
      "text/plain": [
       "<IPython.core.display.HTML object>"
      ]
     },
     "metadata": {},
     "output_type": "display_data"
    },
    {
     "name": "stderr",
     "output_type": "stream",
     "text": [
      "\u001b[34m\u001b[1mwandb\u001b[0m: \u001b[32m\u001b[41mERROR\u001b[0m The nbformat package was not found. It is required to save notebook history.\n"
     ]
    },
    {
     "data": {
      "text/html": [],
      "text/plain": [
       "<IPython.core.display.HTML object>"
      ]
     },
     "metadata": {},
     "output_type": "display_data"
    },
    {
     "data": {
      "text/html": [
       "<br>    <style><br>        .wandb-row {<br>            display: flex;<br>            flex-direction: row;<br>            flex-wrap: wrap;<br>            justify-content: flex-start;<br>            width: 100%;<br>        }<br>        .wandb-col {<br>            display: flex;<br>            flex-direction: column;<br>            flex-basis: 100%;<br>            flex: 1;<br>            padding: 10px;<br>        }<br>    </style><br><div class=\"wandb-row\"><div class=\"wandb-col\"><h3>Run history:</h3><br/><table class=\"wandb\"><tr><td>signed_LeRF</td><td>███████████████████▇▇▇▇▇▇▇▇▇▇▇▆▆▆▆▆▆▆▄▄▁</td></tr><tr><td>signed_MoRF</td><td>▃▃▂▃▃▃▂▂▂▁▁▁▁▂▂▂▂▂▁▁▁▂▂▂▂▂▃▅▅▅▅▅▅▅▆▅▅▅▅█</td></tr><tr><td>supervoxels_perturbed</td><td>▁▁▂▂▂▂▂▂▂▂▃▃▃▄▄▄▄▅▅▅▅▅▅▅▅▅▆▆▆▆▇▇▇▇▇█████</td></tr></table><br/></div><div class=\"wandb-col\"><h3>Run summary:</h3><br/><table class=\"wandb\"><tr><td>ABPC_area</td><td>0.00033</td></tr><tr><td>ABPC_area_prev</td><td>-0.00033</td></tr><tr><td>AOPC</td><td>0.0004</td></tr><tr><td>AOPC_prev</td><td>7e-05</td></tr><tr><td>LeRF</td><td>-0.00027</td></tr><tr><td>LeRF_cache_hit_ratio_percent</td><td>11</td></tr><tr><td>LeRF_inference_time_sec</td><td>4.89515</td></tr><tr><td>LeRF_volume_removed_mm3</td><td>8309270.59855</td></tr><tr><td>LeRF_volume_removed_pct</td><td>1.8995</td></tr><tr><td>LeRF_volume_removed_voxels</td><td>592714</td></tr><tr><td>MoRF</td><td>-0.00027</td></tr><tr><td>MoRF_cache_hit_ratio_percent</td><td>11</td></tr><tr><td>MoRF_inference_time_sec</td><td>4.89371</td></tr><tr><td>MoRF_volume_removed_mm3</td><td>8309270.59855</td></tr><tr><td>MoRF_volume_removed_pct</td><td>1.8995</td></tr><tr><td>MoRF_volume_removed_voxels</td><td>592714</td></tr><tr><td>norm_ABPC</td><td>0.7177</td></tr><tr><td>norm_ABPC_prev</td><td>-1.17784</td></tr><tr><td>norm_AOPC</td><td>0.86552</td></tr><tr><td>norm_AOPC_prev</td><td>0.24259</td></tr><tr><td>num_supervoxels</td><td>497</td></tr><tr><td>signed_LeRF</td><td>-0.00027</td></tr><tr><td>signed_MoRF</td><td>-0.00027</td></tr><tr><td>supervoxels_perturbed</td><td>497</td></tr><tr><td>total_volume_mm3</td><td>437444627.41516</td></tr><tr><td>total_volume_voxels</td><td>31203648</td></tr></table><br/></div></div>"
      ],
      "text/plain": [
       "<IPython.core.display.HTML object>"
      ]
     },
     "metadata": {},
     "output_type": "display_data"
    },
    {
     "data": {
      "text/html": [
       " View run <strong style=\"color:#cdcd00\">sage-violet-465</strong> at: <a href='https://wandb.ai/giuliosichili/automi/runs/j0n91fz7' target=\"_blank\">https://wandb.ai/giuliosichili/automi/runs/j0n91fz7</a><br> View project at: <a href='https://wandb.ai/giuliosichili/automi' target=\"_blank\">https://wandb.ai/giuliosichili/automi</a><br>Synced 5 W&B file(s), 0 media file(s), 0 artifact file(s) and 0 other file(s)"
      ],
      "text/plain": [
       "<IPython.core.display.HTML object>"
      ]
     },
     "metadata": {},
     "output_type": "display_data"
    },
    {
     "data": {
      "text/html": [
       "Find logs at: <code>./wandb/run-20250909_164421-j0n91fz7/logs</code>"
      ],
      "text/plain": [
       "<IPython.core.display.HTML object>"
      ]
     },
     "metadata": {},
     "output_type": "display_data"
    },
    {
     "data": {
      "text/html": [
       "Tracking run with wandb version 0.21.1"
      ],
      "text/plain": [
       "<IPython.core.display.HTML object>"
      ]
     },
     "metadata": {},
     "output_type": "display_data"
    },
    {
     "data": {
      "text/html": [
       "Run data is saved locally in <code>/Users/giulio/Desktop/tesi/ssh/XAI-AUTOMI-seg/metrics/wandb/run-20250909_164424-b10nvc1l</code>"
      ],
      "text/plain": [
       "<IPython.core.display.HTML object>"
      ]
     },
     "metadata": {},
     "output_type": "display_data"
    },
    {
     "data": {
      "text/html": [
       "Resuming run <strong><a href='https://wandb.ai/giuliosichili/automi/runs/b10nvc1l' target=\"_blank\">glad-valley-473</a></strong> to <a href='https://wandb.ai/giuliosichili/automi' target=\"_blank\">Weights & Biases</a> (<a href='https://wandb.me/developer-guide' target=\"_blank\">docs</a>)<br>"
      ],
      "text/plain": [
       "<IPython.core.display.HTML object>"
      ]
     },
     "metadata": {},
     "output_type": "display_data"
    },
    {
     "data": {
      "text/html": [
       " View project at <a href='https://wandb.ai/giuliosichili/automi' target=\"_blank\">https://wandb.ai/giuliosichili/automi</a>"
      ],
      "text/plain": [
       "<IPython.core.display.HTML object>"
      ]
     },
     "metadata": {},
     "output_type": "display_data"
    },
    {
     "data": {
      "text/html": [
       " View run at <a href='https://wandb.ai/giuliosichili/automi/runs/b10nvc1l' target=\"_blank\">https://wandb.ai/giuliosichili/automi/runs/b10nvc1l</a>"
      ],
      "text/plain": [
       "<IPython.core.display.HTML object>"
      ]
     },
     "metadata": {},
     "output_type": "display_data"
    },
    {
     "name": "stdout",
     "output_type": "stream",
     "text": [
      "- b10nvc1l ERROR: SummaryDict.update() got an unexpected keyword argument 'overwrite'\n",
      "\n",
      "Run o0hbjeqc | points=372 | x in [0, 371]\n",
      "  ABPC_area : old = 0.00018703  -> new = 0.00018703\n",
      "  AOPC      : old = 0.00021942  -> new = 0.00021942\n",
      "  norm_ABPC : old = 0.5783  -> new = 0.5783\n",
      "  norm_AOPC : old = 0.6784  -> new = 0.6784\n"
     ]
    },
    {
     "data": {
      "text/html": [
       "Changes to your `wandb` environment variables will be ignored because your `wandb` session has already started. For more information on how to modify your settings with `wandb.init()` arguments, please refer to <a href='https://wandb.me/wandb-init' target=\"_blank\">the W&B docs</a>."
      ],
      "text/plain": [
       "<IPython.core.display.HTML object>"
      ]
     },
     "metadata": {},
     "output_type": "display_data"
    },
    {
     "data": {
      "text/html": [
       "Finishing previous runs because reinit is set to 'default'."
      ],
      "text/plain": [
       "<IPython.core.display.HTML object>"
      ]
     },
     "metadata": {},
     "output_type": "display_data"
    },
    {
     "data": {
      "text/html": [],
      "text/plain": [
       "<IPython.core.display.HTML object>"
      ]
     },
     "metadata": {},
     "output_type": "display_data"
    },
    {
     "data": {
      "text/html": [
       "<br>    <style><br>        .wandb-row {<br>            display: flex;<br>            flex-direction: row;<br>            flex-wrap: wrap;<br>            justify-content: flex-start;<br>            width: 100%;<br>        }<br>        .wandb-col {<br>            display: flex;<br>            flex-direction: column;<br>            flex-basis: 100%;<br>            flex: 1;<br>            padding: 10px;<br>        }<br>    </style><br><div class=\"wandb-row\"><div class=\"wandb-col\"><h3>Run history:</h3><br/><table class=\"wandb\"><tr><td>signed_LeRF</td><td>█▇▇▇▇▅▅▅▅▅▅▅▄▄▃▃▃▃▄▄▄▄▃▃▃▃▃▂▃▃▃▃▂▁▁▂▂▁▁▁</td></tr><tr><td>signed_MoRF</td><td>█▃▃▃▃▃▃▂▁▁▁▁▁▁▁▁▁▁▁▁▁▁▁▁▂▂▂▂▂▂▂▂▁▂▂▂▃▃▄▄</td></tr><tr><td>supervoxels_perturbed</td><td>▁▂▂▂▂▂▂▃▃▃▃▃▃▄▄▄▄▄▄▅▅▅▅▆▆▇▇▇▇▇▇▇▇▇▇█████</td></tr></table><br/></div><div class=\"wandb-col\"><h3>Run summary:</h3><br/><table class=\"wandb\"><tr><td>ABPC_area</td><td>0.00023</td></tr><tr><td>ABPC_area_prev</td><td>-0.00023</td></tr><tr><td>AOPC</td><td>0.0003</td></tr><tr><td>AOPC_prev</td><td>7e-05</td></tr><tr><td>LeRF</td><td>-0.00015</td></tr><tr><td>LeRF_cache_hit_ratio_percent</td><td>20.83333</td></tr><tr><td>LeRF_inference_time_sec</td><td>5.09036</td></tr><tr><td>LeRF_volume_removed_mm3</td><td>3799992.37061</td></tr><tr><td>LeRF_volume_removed_pct</td><td>1.56428</td></tr><tr><td>LeRF_volume_removed_voxels</td><td>553414</td></tr><tr><td>MoRF</td><td>-0.00015</td></tr><tr><td>MoRF_cache_hit_ratio_percent</td><td>20.83333</td></tr><tr><td>MoRF_inference_time_sec</td><td>5.09587</td></tr><tr><td>MoRF_volume_removed_mm3</td><td>3799992.37061</td></tr><tr><td>MoRF_volume_removed_pct</td><td>1.56428</td></tr><tr><td>MoRF_volume_removed_voxels</td><td>553414</td></tr><tr><td>norm_ABPC</td><td>0.65183</td></tr><tr><td>norm_ABPC_prev</td><td>-1.31378</td></tr><tr><td>norm_AOPC</td><td>0.85547</td></tr><tr><td>norm_AOPC_prev</td><td>0.41045</td></tr><tr><td>num_supervoxels</td><td>345</td></tr><tr><td>signed_LeRF</td><td>-0.00015</td></tr><tr><td>signed_MoRF</td><td>-0.00015</td></tr><tr><td>supervoxels_perturbed</td><td>345</td></tr><tr><td>total_volume_mm3</td><td>242922237.39624</td></tr><tr><td>total_volume_voxels</td><td>35378115</td></tr></table><br/></div></div>"
      ],
      "text/plain": [
       "<IPython.core.display.HTML object>"
      ]
     },
     "metadata": {},
     "output_type": "display_data"
    },
    {
     "data": {
      "text/html": [
       " View run <strong style=\"color:#cdcd00\">glad-valley-473</strong> at: <a href='https://wandb.ai/giuliosichili/automi/runs/b10nvc1l' target=\"_blank\">https://wandb.ai/giuliosichili/automi/runs/b10nvc1l</a><br> View project at: <a href='https://wandb.ai/giuliosichili/automi' target=\"_blank\">https://wandb.ai/giuliosichili/automi</a><br>Synced 5 W&B file(s), 0 media file(s), 0 artifact file(s) and 0 other file(s)"
      ],
      "text/plain": [
       "<IPython.core.display.HTML object>"
      ]
     },
     "metadata": {},
     "output_type": "display_data"
    },
    {
     "data": {
      "text/html": [
       "Find logs at: <code>./wandb/run-20250909_164424-b10nvc1l/logs</code>"
      ],
      "text/plain": [
       "<IPython.core.display.HTML object>"
      ]
     },
     "metadata": {},
     "output_type": "display_data"
    },
    {
     "data": {
      "text/html": [
       "creating run (0.7s)"
      ],
      "text/plain": [
       "<IPython.core.display.HTML object>"
      ]
     },
     "metadata": {},
     "output_type": "display_data"
    },
    {
     "data": {
      "text/html": [
       "Tracking run with wandb version 0.21.1"
      ],
      "text/plain": [
       "<IPython.core.display.HTML object>"
      ]
     },
     "metadata": {},
     "output_type": "display_data"
    },
    {
     "data": {
      "text/html": [
       "Run data is saved locally in <code>/Users/giulio/Desktop/tesi/ssh/XAI-AUTOMI-seg/metrics/wandb/run-20250909_164426-o0hbjeqc</code>"
      ],
      "text/plain": [
       "<IPython.core.display.HTML object>"
      ]
     },
     "metadata": {},
     "output_type": "display_data"
    },
    {
     "data": {
      "text/html": [
       "Resuming run <strong><a href='https://wandb.ai/giuliosichili/automi/runs/o0hbjeqc' target=\"_blank\">woven-galaxy-483</a></strong> to <a href='https://wandb.ai/giuliosichili/automi' target=\"_blank\">Weights & Biases</a> (<a href='https://wandb.me/developer-guide' target=\"_blank\">docs</a>)<br>"
      ],
      "text/plain": [
       "<IPython.core.display.HTML object>"
      ]
     },
     "metadata": {},
     "output_type": "display_data"
    },
    {
     "data": {
      "text/html": [
       " View project at <a href='https://wandb.ai/giuliosichili/automi' target=\"_blank\">https://wandb.ai/giuliosichili/automi</a>"
      ],
      "text/plain": [
       "<IPython.core.display.HTML object>"
      ]
     },
     "metadata": {},
     "output_type": "display_data"
    },
    {
     "data": {
      "text/html": [
       " View run at <a href='https://wandb.ai/giuliosichili/automi/runs/o0hbjeqc' target=\"_blank\">https://wandb.ai/giuliosichili/automi/runs/o0hbjeqc</a>"
      ],
      "text/plain": [
       "<IPython.core.display.HTML object>"
      ]
     },
     "metadata": {},
     "output_type": "display_data"
    },
    {
     "name": "stdout",
     "output_type": "stream",
     "text": [
      "- o0hbjeqc ERROR: SummaryDict.update() got an unexpected keyword argument 'overwrite'\n",
      "\n",
      "Done. Candidate runs: 7 | Patched (or would patch in DRY_RUN): 0 | Skipped: 7 | DRY_RUN=False | VERBOSE=True\n"
     ]
    }
   ],
   "source": [
    "# patch_switch_signed_curves.py\n",
    "# Append swapped/signed curves as `signed_MoRF` / `signed_LeRF` at the same supervoxels_perturbed x,\n",
    "# and update summary metrics accordingly. Verbose and dry-run by default.\n",
    "\n",
    "import os\n",
    "from typing import Dict, List, Optional, Tuple\n",
    "import numpy as np\n",
    "import wandb\n",
    "\n",
    "# ===== USER CONFIG =====\n",
    "ENTITY = \"giuliosichili\"\n",
    "PROJECT = \"automi\"\n",
    "GROUP   = \"ABPC-volumes\"\n",
    "\n",
    "TARGET_SV_TYPE = \"FCC-organs\"\n",
    "TARGET_AGG     = \"false_positive_aggregation\"\n",
    "\n",
    "X_KEY     = \"supervoxels_perturbed\"   # custom x-axis used during logging\n",
    "PAGE_SIZE = 512\n",
    "\n",
    "DRY_RUN   = False   # << SAFE DEFAULT: ONLY PRINT, NO WRITES >>\n",
    "VERBOSE   = True   # << PRINT per-run details >>\n",
    "# =======================\n",
    "\n",
    "# Externally provided functions must exist in your environment:\n",
    "#   compute_area_between_curves(morf_curve, lerf_curve)\n",
    "#   compute_aopc(morf_curve)\n",
    "#   normalized_abpc(morf_curve, lerf_curve)\n",
    "#   normalized_aopc(morf_curve)\n",
    "\n",
    "def _fmt(x: Optional[float], fixed4: bool = False) -> str:\n",
    "    if x is None:\n",
    "        return \"None\"\n",
    "    try:\n",
    "        xf = float(x)\n",
    "        if np.isnan(xf):\n",
    "            return \"nan\"\n",
    "        return f\"{xf:.4f}\" if fixed4 else f\"{xf:.8f}\"\n",
    "    except Exception:\n",
    "        return str(x)\n",
    "\n",
    "def fetch_target_runs(api: wandb.Api) -> List[wandb.apis.public.Run]:\n",
    "    \"\"\"Find FCC-organs + false_positive_aggregation runs inside GROUP.\"\"\"\n",
    "    path = f\"{ENTITY}/{PROJECT}\"\n",
    "    filt = {\n",
    "        \"config.group\": {\"$eq\": GROUP},\n",
    "        \"config.supervoxel_type\": {\"$eq\": TARGET_SV_TYPE},\n",
    "        \"config.aggregation_function\": {\"$eq\": TARGET_AGG},\n",
    "    }\n",
    "    return list(api.runs(path, filters=filt))\n",
    "\n",
    "def collect_curves_with_x_and_last_step(run: wandb.apis.public.Run) -> Tuple[np.ndarray, np.ndarray, np.ndarray, int]:\n",
    "    \"\"\"\n",
    "    Build MoRF/LeRF arrays aligned on the custom x-axis (supervoxels_perturbed).\n",
    "    Returns (morf, lerf, x_sorted, last_step_seen).\n",
    "    \"\"\"\n",
    "    morf_map: Dict[int, float] = {}\n",
    "    lerf_map: Dict[int, float] = {}\n",
    "    last_step_seen = -1\n",
    "\n",
    "    for row in run.scan_history(page_size=PAGE_SIZE):\n",
    "        step = row.get(\"_step\", row.get(\"step\"))\n",
    "        if step is None:\n",
    "            continue\n",
    "        try:\n",
    "            step = int(step)\n",
    "        except Exception:\n",
    "            continue\n",
    "        if step > last_step_seen:\n",
    "            last_step_seen = step\n",
    "\n",
    "        # x-axis (prefer supervoxels_perturbed; fallback to step)\n",
    "        x = row.get(X_KEY, step)\n",
    "        try:\n",
    "            x = int(x)\n",
    "        except Exception:\n",
    "            try:\n",
    "                x = int(float(x))\n",
    "            except Exception:\n",
    "                continue\n",
    "\n",
    "        m = row.get(\"MoRF\", None)\n",
    "        l = row.get(\"LeRF\", None)\n",
    "        if m is not None:\n",
    "            try:\n",
    "                morf_map[x] = float(m)\n",
    "            except Exception:\n",
    "                pass\n",
    "        if l is not None:\n",
    "            try:\n",
    "                lerf_map[x] = float(l)\n",
    "            except Exception:\n",
    "                pass\n",
    "\n",
    "    common_x = sorted(set(morf_map.keys()) & set(lerf_map.keys()))\n",
    "    if not common_x:\n",
    "        return np.array([]), np.array([]), np.array([]), last_step_seen\n",
    "\n",
    "    morf = np.array([morf_map[i] for i in common_x], dtype=float)\n",
    "    lerf = np.array([lerf_map[i] for i in common_x], dtype=float)\n",
    "    xs   = np.array(common_x, dtype=int)\n",
    "    return morf, lerf, xs, last_step_seen\n",
    "\n",
    "def recompute_from_corrected(morf_fixed: np.ndarray, lerf_fixed: np.ndarray) -> Dict[str, float]:\n",
    "    \"\"\"Compute corrected metrics from corrected curves using user's functions.\"\"\"\n",
    "    out: Dict[str, float] = {}\n",
    "    out[\"ABPC_area\"] = float(compute_area_between_curves(morf_fixed, lerf_fixed))\n",
    "    out[\"AOPC\"]      = float(compute_aopc(morf_fixed))\n",
    "    out[\"norm_ABPC\"] = float(normalized_abpc(morf_fixed, lerf_fixed))\n",
    "    out[\"norm_AOPC\"] = float(normalized_aopc(morf_fixed))\n",
    "    return out\n",
    "\n",
    "def old_summary_metrics(run: wandb.apis.public.Run) -> Dict[str, Optional[float]]:\n",
    "    s = run.summary or {}\n",
    "    def g(k):\n",
    "        v = s.get(k)\n",
    "        try:\n",
    "            return float(v) if v is not None else None\n",
    "        except Exception:\n",
    "            return None\n",
    "    return {\n",
    "        \"ABPC_area\": g(\"ABPC_area\"),\n",
    "        \"AOPC\": g(\"AOPC\"),\n",
    "        \"norm_ABPC\": g(\"norm_ABPC\"),\n",
    "        \"norm_AOPC\": g(\"norm_AOPC\"),\n",
    "    }\n",
    "\n",
    "def main():\n",
    "    api = wandb.Api()\n",
    "    runs = fetch_target_runs(api)\n",
    "    print(f\"[target] group='{GROUP}', sv_type='{TARGET_SV_TYPE}', agg='{TARGET_AGG}': {len(runs)} runs\")\n",
    "\n",
    "    patched, skipped = 0, 0\n",
    "    for run in runs:\n",
    "        try:\n",
    "            morf, lerf, xs, last_step = collect_curves_with_x_and_last_step(run)\n",
    "            if morf.size == 0 or lerf.size == 0:\n",
    "                if VERBOSE:\n",
    "                    print(f\"- {run.id} SKIP: no aligned MoRF/LeRF on '{X_KEY}'\")\n",
    "                skipped += 1\n",
    "                continue\n",
    "\n",
    "            # ---- The actual curve *switch* (swap MoRF/LeRF) ----\n",
    "            signed_morf = lerf.copy()  # should-be MoRF\n",
    "            signed_lerf = morf.copy()  # should-be LeRF\n",
    "\n",
    "            # Recompute corrected metrics from the swapped curves\n",
    "            new_metrics = recompute_from_corrected(signed_morf, signed_lerf)\n",
    "            old_metrics = old_summary_metrics(run)\n",
    "\n",
    "            if VERBOSE:\n",
    "                print(f\"\\nRun {run.id} | points={len(xs)} | x in [{xs.min()}, {xs.max()}]\")\n",
    "                print(\"  ABPC_area : old =\", _fmt(old_metrics[\"ABPC_area\"], fixed4=False), \" -> new =\", _fmt(new_metrics[\"ABPC_area\"], fixed4=False))\n",
    "                print(\"  AOPC      : old =\", _fmt(old_metrics[\"AOPC\"],      fixed4=False), \" -> new =\", _fmt(new_metrics[\"AOPC\"],      fixed4=False))\n",
    "                print(\"  norm_ABPC : old =\", _fmt(old_metrics[\"norm_ABPC\"], fixed4=True),  \" -> new =\", _fmt(new_metrics[\"norm_ABPC\"], fixed4=True))\n",
    "                print(\"  norm_AOPC : old =\", _fmt(old_metrics[\"norm_AOPC\"], fixed4=True),  \" -> new =\", _fmt(new_metrics[\"norm_AOPC\"], fixed4=True))\n",
    "\n",
    "            if DRY_RUN:\n",
    "                patched += 1\n",
    "                continue\n",
    "\n",
    "            # ---- WRITE (append corrected series + overwrite summary) ----\n",
    "            os.environ[\"WANDB_RESUME\"] = \"allow\"\n",
    "            os.environ[\"WANDB_RUN_ID\"] = run.id\n",
    "            session = wandb.init(entity=run.entity, project=run.project, id=run.id, resume=\"allow\")\n",
    "\n",
    "            # Append corrected series at strictly increasing _step; keep the same supervoxels_perturbed\n",
    "            start_step = int(last_step) + 1\n",
    "            for i, x in enumerate(xs):\n",
    "                payload = {\n",
    "                    \"signed_MoRF\": float(signed_morf[i]),\n",
    "                    \"signed_LeRF\": float(signed_lerf[i]),\n",
    "                    X_KEY: int(x),  # keep your custom x-axis\n",
    "                }\n",
    "                wandb.log(payload, step=start_step + i)\n",
    "\n",
    "            # Overwrite summary with corrected metrics and store previous for traceability\n",
    "            session.summary.update({\n",
    "                \"ABPC_area_prev\": old_metrics[\"ABPC_area\"],\n",
    "                \"AOPC_prev\": old_metrics[\"AOPC\"],\n",
    "                \"norm_ABPC_prev\": old_metrics[\"norm_ABPC\"],\n",
    "                \"norm_AOPC_prev\": old_metrics[\"norm_AOPC\"],\n",
    "                **new_metrics,\n",
    "                \"signed_curves\": True,\n",
    "            }, overwrite=True)\n",
    "\n",
    "            session.finish()\n",
    "            patched += 1\n",
    "\n",
    "        except Exception as e:\n",
    "            if VERBOSE:\n",
    "                print(f\"- {run.id} ERROR: {e}\")\n",
    "            skipped += 1\n",
    "\n",
    "    print(f\"\\nDone. Candidate runs: {len(runs)} | Patched (or would patch in DRY_RUN): {patched} | Skipped: {skipped} | DRY_RUN={DRY_RUN} | VERBOSE={VERBOSE}\")\n",
    "\n",
    "if __name__ == \"__main__\":\n",
    "    main()"
   ]
  }
 ],
 "metadata": {
  "kernelspec": {
   "display_name": "torch",
   "language": "python",
   "name": "python3"
  },
  "language_info": {
   "codemirror_mode": {
    "name": "ipython",
    "version": 3
   },
   "file_extension": ".py",
   "mimetype": "text/x-python",
   "name": "python",
   "nbconvert_exporter": "python",
   "pygments_lexer": "ipython3",
   "version": "3.13.5"
  }
 },
 "nbformat": 4,
 "nbformat_minor": 5
}
